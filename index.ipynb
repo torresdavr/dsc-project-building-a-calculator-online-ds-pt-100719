{
 "cells": [
  {
   "cell_type": "markdown",
   "metadata": {},
   "source": [
    "# Project - Building a Calculator\n",
    "\n",
    "\n",
    "## Introduction \n",
    "\n",
    "In this project, you'll create a simple calculator which can perform basic arithmetic operations like addition, subtraction, multiplication, or division depending upon the user input.\n",
    "\n",
    "## Objectives\n",
    "\n",
    "You will be able to:\n",
    "\n",
    "- Perform operations on various data types \n",
    "- Use loops to perform iteration \n",
    "- Use conditionals to make programming decisions\n",
    "- Define and use functions \n",
    "- Ingest and parse user input \n",
    "\n",
    "## Approach \n",
    "\n",
    "- User chooses the desired operation. Options 1, 2, 3, 4 are valid options for operations   \n",
    "- Two numbers are taken and an `if…elif…else` branching is used to execute a particular section \n",
    "- Using functions `add()`, `subtract()`, `multiply()`, and `divide()` evaluate respective operations \n",
    "- The code should handle exceptions and must return **\"invalid input\"** when an unexpected character is given in the input (anything other than 1 - 4) \n",
    "\n",
    "## Example Interface\n",
    "Here is the interface you are expected to build. Don't worry if it is not 100% the same as what is shown. Focus more on the getting the logic correct at this stage. \n",
    "\n",
    "```\n",
    "Please select an operation:\n",
    "1. Add\n",
    "2. Subtract\n",
    "3. Multiply\n",
    "4. Divide\n",
    "\n",
    "Select operations form 1, 2, 3, 4 : 1\n",
    "Enter first number : 20\n",
    "Enter second number : 13\n",
    "20 + 13 = 33\n",
    "```\n",
    "\n",
    "## Creating Arithmetic Functions\n",
    "\n",
    "We'll create four functions, one for each arithmetic operation which will perform the required operation and return the resulting value as shown below:"
   ]
  },
  {
   "cell_type": "code",
   "execution_count": 1,
   "metadata": {},
   "outputs": [],
   "source": [
    "# Function to add two numbers \n",
    "def add(num1, num2):\n",
    "    #Perform the calculation\n",
    "    return None"
   ]
  },
  {
   "cell_type": "code",
   "execution_count": 2,
   "metadata": {},
   "outputs": [],
   "source": [
    "#mine\n",
    "def add(num1, num2):\n",
    "    #Perform the calculation\n",
    "    return num1 + num2"
   ]
  },
  {
   "cell_type": "code",
   "execution_count": 3,
   "metadata": {},
   "outputs": [
    {
     "data": {
      "text/plain": [
       "10"
      ]
     },
     "execution_count": 3,
     "metadata": {},
     "output_type": "execute_result"
    }
   ],
   "source": [
    "add(5,5)"
   ]
  },
  {
   "cell_type": "code",
   "execution_count": 4,
   "metadata": {},
   "outputs": [],
   "source": [
    "# Function to subtract two numbers \n",
    "def subtract(num1, num2):\n",
    "    #Perform the calculation\n",
    "    return None"
   ]
  },
  {
   "cell_type": "code",
   "execution_count": 5,
   "metadata": {},
   "outputs": [],
   "source": [
    "#mine\n",
    "def subtract(num1, num2):\n",
    "    #Perform the calculation\n",
    "    return num1 - num2"
   ]
  },
  {
   "cell_type": "code",
   "execution_count": 6,
   "metadata": {},
   "outputs": [
    {
     "data": {
      "text/plain": [
       "2"
      ]
     },
     "execution_count": 6,
     "metadata": {},
     "output_type": "execute_result"
    }
   ],
   "source": [
    "subtract(10,8)"
   ]
  },
  {
   "cell_type": "code",
   "execution_count": 7,
   "metadata": {},
   "outputs": [],
   "source": [
    "# Function to multiply two numbers\n",
    "def multiply(num1, num2):\n",
    "    #Perform the calculation\n",
    "    return None"
   ]
  },
  {
   "cell_type": "code",
   "execution_count": 8,
   "metadata": {},
   "outputs": [],
   "source": [
    "#mine\n",
    "# Function to multiply two numbers\n",
    "def multiply(num1, num2):\n",
    "    #Perform the calculation\n",
    "    return num1 * num2"
   ]
  },
  {
   "cell_type": "code",
   "execution_count": 9,
   "metadata": {},
   "outputs": [
    {
     "data": {
      "text/plain": [
       "35"
      ]
     },
     "execution_count": 9,
     "metadata": {},
     "output_type": "execute_result"
    }
   ],
   "source": [
    "multiply(5,7)"
   ]
  },
  {
   "cell_type": "code",
   "execution_count": 10,
   "metadata": {},
   "outputs": [],
   "source": [
    "# Function to divide two numbers\n",
    "def divide(num1, num2):\n",
    "    #Perform the calculation\n",
    "    return None"
   ]
  },
  {
   "cell_type": "code",
   "execution_count": 11,
   "metadata": {},
   "outputs": [],
   "source": [
    "#mine\n",
    "# Function to divide two numbers\n",
    "def divide(num1, num2):\n",
    "    #Perform the calculation\n",
    "    return num1 / num2"
   ]
  },
  {
   "cell_type": "code",
   "execution_count": 12,
   "metadata": {},
   "outputs": [
    {
     "data": {
      "text/plain": [
       "6.0"
      ]
     },
     "execution_count": 12,
     "metadata": {},
     "output_type": "execute_result"
    }
   ],
   "source": [
    "divide(36,6)"
   ]
  },
  {
   "cell_type": "markdown",
   "metadata": {},
   "source": [
    "## Create a Command-line User Interface\n",
    "We'll now write the main program body to take user input and call the relevant function:"
   ]
  },
  {
   "cell_type": "code",
   "execution_count": 13,
   "metadata": {},
   "outputs": [
    {
     "name": "stdout",
     "output_type": "stream",
     "text": [
      "instructions\n"
     ]
    }
   ],
   "source": [
    "# Print user menu \n",
    "\n",
    "#main routine\n",
    "#mainMenu()        \n",
    "# Print the output in a nice manner\n",
    "# Print \"Invalid input\" if an unexpected character is seen in input\n",
    "\n",
    "\n",
    "# Expected output    \n",
    "\n",
    "# Please select operation -\n",
    "# 1. Add\n",
    "# 2. Subtract\n",
    "# 3. Multiply\n",
    "# 4. Divide\n",
    "\n",
    "# Select operations form 1, 2, 3, 4 :1\n",
    "# Enter first number: 2\n",
    "# Enter second number: 3\n",
    "# 2 + 3 = 5\n",
    "print('instructions')"
   ]
  },
  {
   "cell_type": "code",
   "execution_count": 18,
   "metadata": {},
   "outputs": [
    {
     "name": "stdout",
     "output_type": "stream",
     "text": [
      "1. Add\n",
      "2. Subtract\n",
      "3. Multiply\n",
      "4. Divide\n",
      "9. Quit\n",
      "\n",
      "Pick an item from the menu:9\n",
      "Enter a number: 3\n",
      "Enter another number: 4\n",
      "Goodbye\n"
     ]
    }
   ],
   "source": [
    "def mainMenu(): \n",
    "    print(\"1. Add\")\n",
    "    print(\"2. Subtract\")\n",
    "    print(\"3. Multiply\")\n",
    "    print(\"4. Divide\")\n",
    "    print(\"9. Quit\\n\")\n",
    "# Take input from the user for operation , followed by numbers. \n",
    "    selection= input(\"Pick an item from the menu:\")\n",
    "\n",
    "# Based on operation, pass the two numbers to respective function\n",
    "    num1 = int(input(\"Enter a number: \"))\n",
    "    num2 = int(input(\"Enter another number: \"))\n",
    "\n",
    "    if selection == '1':\n",
    "        add(num1,num2)\n",
    "    elif selection == '2':\n",
    "        subtract(num1,num2)\n",
    "    elif selection == '3':\n",
    "        multiply(num1,num2)\n",
    "    elif selection == '4':\n",
    "        divide(num1,num2)        \n",
    "    elif selection == '9':\n",
    "        print('Goodbye')  \n",
    "        exit\n",
    "    else:\n",
    "        #print('Invalid Choice.  Pick 1 to 4')\n",
    "        print(\"Please try again\")\n",
    "        mainMenu()\n",
    "                \n",
    "            \n",
    "def add(num1, num2):\n",
    "    #Perform the calculation\n",
    "    var_add = num1 + num2\n",
    "    print('Addition: {}'.format(var_add))\n",
    "    \n",
    "def subtract(num1, num2):\n",
    "    #Perform the calculation\n",
    "    print('Subtraction: {}'.format(num1 - num2))   \n",
    "    \n",
    "def multiply(num1, num2):\n",
    "    #Perform the calculation\n",
    "    print('Multiplication: {}'.format(num1 * num2))     \n",
    "\n",
    "def divide(num1, num2):\n",
    "    #Perform the calculation\n",
    "    print('Division: {}'.format(num1 / num2))  \n",
    "    \n",
    "mainMenu()"
   ]
  },
  {
   "cell_type": "markdown",
   "metadata": {},
   "source": [
    "Please select operation -\n",
    "1. Add\n",
    "2. Subtract\n",
    "3. Multiply\n",
    "4. Divide\n",
    "\n",
    "Select operations form 1, 2, 3, 4 :1    \n",
    "Enter first number: 2    \n",
    "Enter second number: 3    \n",
    "2 + 3 = 5 "
   ]
  },
  {
   "cell_type": "markdown",
   "metadata": {},
   "source": [
    "## Bring in the `while` loop\n",
    "\n",
    "We can see how the logic set by using `if-else` statements, along with functions can be used to control the flow of the program in an easy way. Let's add more functionality to our calculator as below:\n",
    "\n",
    "> Let's try to make it a bit more interesting by introducing the behaviour of a real calculator so our users can choose to either continue with calculations OR exit the system. Users gets this functionality by pressing `y` for yes and `n` for no towards continuation.\n",
    "\n",
    "## Example Interface\n",
    "\n",
    "**Notice `continue: y/n` at the bottom of interface.**\n",
    "\n",
    "```\n",
    "Please select an operation:\n",
    "1. Add\n",
    "2. Subtract\n",
    "3. Multiply\n",
    "4. Divide\n",
    "\n",
    "Select operations form 1, 2, 3, 4 : 1\n",
    "Enter first number : 20\n",
    "Enter second number : 13\n",
    "20 + 13 = 33\n",
    "\n",
    "Continue: y/n\n",
    "```\n",
    "\n",
    "Let's work towards implementing iteration into the equation and enclose above I/O interface inside a `while` loop."
   ]
  },
  {
   "cell_type": "code",
   "execution_count": 47,
   "metadata": {},
   "outputs": [
    {
     "name": "stdout",
     "output_type": "stream",
     "text": [
      "Options\n",
      "1. Add\n",
      "2. Subtract\n",
      "3. Multiply\n",
      "4. Divide\n",
      "9. Quit\n",
      "\n",
      "Pick an item from the menu:4\n",
      "Enter a number: 35\n",
      "Enter another number: 7\n",
      "type 'd' or 'm' for modulusm\n",
      "Modulis: 0\n",
      "If you'd like to play again, please type 'yes'yes\n",
      "Pick an item from the menu:4\n",
      "Enter a number: 35\n",
      "Enter another number: 6\n",
      "type 'd' or 'm' for modulusd\n",
      "type 'd' for regular division or 'f' for float division.d\n",
      "Division: 5.833333333333333\n",
      "If you'd like to play again, please type 'yes'yes\n",
      "Pick an item from the menu:4\n",
      "Enter a number: 35\n",
      "Enter another number: 6\n",
      "type 'd' or 'm' for modulusd\n",
      "type 'd' for regular division or 'f' for float division.f\n",
      "Modulis: 5\n",
      "If you'd like to play again, please type 'yes'yes\n",
      "Pick an item from the menu:1\n",
      "Enter a number: 4\n",
      "Enter another number: 6\n",
      "Addition: 10\n",
      "If you'd like to play again, please type 'yes'yes\n",
      "Pick an item from the menu:2\n",
      "Enter a number: 12\n",
      "Enter another number: 6\n",
      "Subtraction: 6\n",
      "If you'd like to play again, please type 'yes'no\n",
      "Bye\n"
     ]
    }
   ],
   "source": [
    "# Initialize the code with cont (continue) flag set to yes (y)\n",
    "\n",
    "\n",
    "# Check for user input after each iteration of the code in a while loop\n",
    "\n",
    "\n",
    "        # Enclose the I/O  code block inside the while loop\n",
    "        \n",
    "#Expected output format\n",
    "\n",
    "# Select operations form 1, 2, 3, 4 :4\n",
    "# Enter first number: 5\n",
    "# Enter second number: 4\n",
    "# Press d for division and m for modulo operatorm\n",
    "# 5 / 4 = 1\n",
    "# Continue? y/n:y\n",
    "# Select operations form 1, 2, 3, 4 :4\n",
    "# Enter first number: 5\n",
    "# Enter second number: 4\n",
    "# Press d for division and m for modulo operatord\n",
    "# 5 / 4 = 1.25\n",
    "\n",
    "def add(num1, num2):\n",
    "    #Perform the calculation\n",
    "    var_add = num1 + num2\n",
    "    print('Addition: {}'.format(var_add))    \n",
    "    \n",
    "def subtract(num1, num2):\n",
    "    #Perform the calculation\n",
    "    print('Subtraction: {}'.format(num1 - num2))  \n",
    "    \n",
    "def mod(num1, num2):\n",
    "    #Perform the calculation\n",
    "    print('Modulis: {}'.format(num1 % num2))       \n",
    "    \n",
    "def display_menu():\n",
    "    print('Options')\n",
    "    print(\"1. Add\")\n",
    "    print(\"2. Subtract\")\n",
    "    print(\"3. Multiply\")\n",
    "    print(\"4. Divide\")\n",
    "    print(\"9. Quit\\n\")\n",
    "\n",
    "    \n",
    "def mainMenu():\n",
    "    display_menu()\n",
    "    #add()\n",
    "    #subtract()\n",
    "    #option = True\n",
    "    while True:\n",
    "        selection= input(\"Pick an item from the menu:\")\n",
    "\n",
    "# Based on operation, pass the two numbers to respective function\n",
    "        num1 = int(input(\"Enter a number: \"))\n",
    "        num2 = int(input(\"Enter another number: \"))\n",
    "\n",
    "        if selection == '1':\n",
    "            add(num1,num2)\n",
    "        elif selection == '2':\n",
    "            subtract(num1,num2)\n",
    "        elif selection == '3':\n",
    "            multiply(num1,num2)\n",
    "        elif selection == '4':\n",
    "            div_select = input(\"type 'd' or 'm' for modulus\")\n",
    "            if div_select == 'd':\n",
    "                div_type = input(\"type 'd' for regular division or 'f' for float division.\")\n",
    "                if div_type == 'd':\n",
    "                    divide(num1,num2)\n",
    "                else:\n",
    "                    mod(num1,num2)\n",
    "            else:\n",
    "                mod(num1,num2)\n",
    "        elif selection == '9':\n",
    "            print('Goodbye')  \n",
    "            break\n",
    "        else:\n",
    "            print('Invalid Choice.  Pick 1 to 4')\n",
    "            print(\"Please try again\")\n",
    "            #mainMenu()\n",
    "    \n",
    "        play_again = input(\"If you'd like to play again, please type 'yes'\")\n",
    "        if play_again == \"yes\":\n",
    "            continue\n",
    "        else:\n",
    "            print('Bye')\n",
    "            break       \n",
    "                \n",
    "mainMenu() "
   ]
  },
  {
   "cell_type": "markdown",
   "metadata": {},
   "source": [
    "## Level up (Optional)\n",
    "\n",
    "The `while` loop shown above allows the iteration through the code until a specific input from user i.e. `n` is noticed. Let's add some more functionality to this code by asking users about the type of division they are interested in, and this could be either normal division (as before) or a modulo operator (shows remainder).\n",
    "\n",
    "> Change the code in the division function so that if a user selects division operation, the code should ask the user if he/she wants a normal division `/` or float division `//`, or a modulo division `%` which only returns the remainder of a division. The program should return an exception for any other inputs. "
   ]
  },
  {
   "cell_type": "code",
   "execution_count": 44,
   "metadata": {},
   "outputs": [],
   "source": [
    "def divide_v2(num1, num2):\n",
    "    #Perform the calculation\n",
    "    float_div  = num1 // num2\n",
    "    print('Float Divsion {}'.format(float_div))"
   ]
  },
  {
   "cell_type": "markdown",
   "metadata": {},
   "source": [
    "## Summary\n",
    "\n",
    "In this lab, we saw how loops and conditions can be used to control the logic of a program execution based on user input. We started with building a simple calculator and incrementally added more functionality to it by adding loops for iteration and further conditions allowing different type of calculations. We also practiced user I/O by taking choices from the users and dealing with exceptions (unexpected input). "
   ]
  }
 ],
 "metadata": {
  "kernelspec": {
   "display_name": "Python 3",
   "language": "python",
   "name": "python3"
  },
  "language_info": {
   "codemirror_mode": {
    "name": "ipython",
    "version": 3
   },
   "file_extension": ".py",
   "mimetype": "text/x-python",
   "name": "python",
   "nbconvert_exporter": "python",
   "pygments_lexer": "ipython3",
   "version": "3.6.8"
  }
 },
 "nbformat": 4,
 "nbformat_minor": 2
}
